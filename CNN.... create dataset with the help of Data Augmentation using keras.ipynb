{
 "cells": [
  {
   "cell_type": "code",
   "execution_count": 1,
   "id": "b50a962d",
   "metadata": {},
   "outputs": [],
   "source": [
    "from keras.preprocessing.image import ImageDataGenerator"
   ]
  },
  {
   "cell_type": "code",
   "execution_count": 2,
   "id": "2e695be3",
   "metadata": {},
   "outputs": [],
   "source": [
    "from tensorflow.keras.preprocessing.image import load_img\n",
    "from tensorflow.keras.preprocessing.image import img_to_array\n",
    "from tensorflow.keras.preprocessing.image import array_to_img"
   ]
  },
  {
   "cell_type": "code",
   "execution_count": 3,
   "id": "643c58ac",
   "metadata": {},
   "outputs": [],
   "source": [
    "datagen = ImageDataGenerator(rotation_range= 40,\n",
    "                            width_shift_range= 0.2,\n",
    "                            height_shift_range= 0.2,\n",
    "                            shear_range= 0.2,\n",
    "                            zoom_range= 0.2,\n",
    "                            horizontal_flip= True,\n",
    "                            fill_mode= 'nearest')"
   ]
  },
  {
   "cell_type": "code",
   "execution_count": 4,
   "id": "51dec5f8",
   "metadata": {},
   "outputs": [],
   "source": [
    "image = load_img('horse.jpg')"
   ]
  },
  {
   "cell_type": "code",
   "execution_count": 5,
   "id": "ec0a5066",
   "metadata": {},
   "outputs": [],
   "source": [
    "x = img_to_array(image)"
   ]
  },
  {
   "cell_type": "code",
   "execution_count": 6,
   "id": "4ec43759",
   "metadata": {},
   "outputs": [
    {
     "data": {
      "text/plain": [
       "(720, 1280, 3)"
      ]
     },
     "execution_count": 6,
     "metadata": {},
     "output_type": "execute_result"
    }
   ],
   "source": [
    "x.shape"
   ]
  },
  {
   "cell_type": "code",
   "execution_count": 7,
   "id": "e0fef5a3",
   "metadata": {},
   "outputs": [
    {
     "data": {
      "text/plain": [
       "(1, 720, 1280, 3)"
      ]
     },
     "execution_count": 7,
     "metadata": {},
     "output_type": "execute_result"
    }
   ],
   "source": [
    "x = x.reshape((1,) + x.shape)\n",
    "x.shape"
   ]
  },
  {
   "cell_type": "code",
   "execution_count": 9,
   "id": "38a650dd",
   "metadata": {},
   "outputs": [],
   "source": [
    "## create an empty folder first... then put that folder name in save_to_dir \n",
    "i = 0\n",
    "for batch in datagen.flow(x, batch_size= 1, save_to_dir= 'priview', save_prefix= 'horse', save_format= 'jpg'):\n",
    "    i = i +1\n",
    "    if i > 20:\n",
    "        break\n",
    "        "
   ]
  },
  {
   "cell_type": "code",
   "execution_count": null,
   "id": "0f01fc9d",
   "metadata": {},
   "outputs": [],
   "source": []
  }
 ],
 "metadata": {
  "kernelspec": {
   "display_name": "Python 3 (ipykernel)",
   "language": "python",
   "name": "python3"
  },
  "language_info": {
   "codemirror_mode": {
    "name": "ipython",
    "version": 3
   },
   "file_extension": ".py",
   "mimetype": "text/x-python",
   "name": "python",
   "nbconvert_exporter": "python",
   "pygments_lexer": "ipython3",
   "version": "3.9.13"
  }
 },
 "nbformat": 4,
 "nbformat_minor": 5
}
