{
 "cells": [
  {
   "cell_type": "code",
   "execution_count": 1,
   "id": "4c8e7b05",
   "metadata": {},
   "outputs": [],
   "source": [
    "import numpy as np\n",
    "import matplotlib.pyplot as plt"
   ]
  },
  {
   "cell_type": "code",
   "execution_count": 2,
   "id": "54b4615e",
   "metadata": {},
   "outputs": [],
   "source": [
    "from tensorflow.keras.layers import Input, Lambda, Dense, Flatten\n",
    "from tensorflow.keras.models import Model\n",
    "from tensorflow.keras.preprocessing import image\n",
    "from tensorflow.keras.preprocessing.image import ImageDataGenerator\n",
    "from tensorflow.keras.models import Sequential"
   ]
  },
  {
   "cell_type": "markdown",
   "id": "05f38399",
   "metadata": {},
   "source": [
    "### We will use VGG16 ... for ResNet we just need to change the name of VGG16 in to ResNet"
   ]
  },
  {
   "cell_type": "code",
   "execution_count": 3,
   "id": "2064169d",
   "metadata": {},
   "outputs": [],
   "source": [
    "## pre_trained model library\n",
    "\n",
    "from tensorflow.keras.applications.vgg16 import VGG16\n",
    "from tensorflow.keras.applications.vgg16 import preprocess_input\n",
    "from glob import glob"
   ]
  },
  {
   "cell_type": "code",
   "execution_count": 4,
   "id": "13470564",
   "metadata": {},
   "outputs": [],
   "source": [
    "## The default input size for this model is (224 x 224)\n",
    "\n",
    "IMAGE_SIZE = [224,224]"
   ]
  },
  {
   "cell_type": "code",
   "execution_count": 5,
   "id": "56767f9c",
   "metadata": {},
   "outputs": [],
   "source": [
    "## file path\n",
    "\n",
    "train_path = 'image_dataset/train'\n",
    "test_path = 'image_dataset/test'"
   ]
  },
  {
   "cell_type": "code",
   "execution_count": 6,
   "id": "69347561",
   "metadata": {},
   "outputs": [],
   "source": [
    "## for this VGG16 the input data dimension should be 3D....\n",
    "            # 3=> only for RGB color image ... and  1=>for black & whie img\n",
    "vgg = VGG16(input_shape= IMAGE_SIZE +[3], weights= 'imagenet', include_top =False)"
   ]
  },
  {
   "cell_type": "code",
   "execution_count": 7,
   "id": "c59b8c29",
   "metadata": {},
   "outputs": [],
   "source": [
    "for layer in vgg.layers:\n",
    "    layer.trainable =False  "
   ]
  },
  {
   "cell_type": "code",
   "execution_count": 8,
   "id": "a9d60818",
   "metadata": {},
   "outputs": [],
   "source": [
    "folders = glob('image_dataset/train/*')"
   ]
  },
  {
   "cell_type": "code",
   "execution_count": 9,
   "id": "dde14405",
   "metadata": {},
   "outputs": [],
   "source": [
    "x = Flatten()(vgg.output)"
   ]
  },
  {
   "cell_type": "code",
   "execution_count": 10,
   "id": "60908965",
   "metadata": {},
   "outputs": [],
   "source": [
    "prediction = Dense(len(folders), activation= 'softmax')(x)"
   ]
  },
  {
   "cell_type": "code",
   "execution_count": 11,
   "id": "c3ac9a6a",
   "metadata": {},
   "outputs": [],
   "source": [
    "model = Model(inputs = vgg.input, outputs = prediction)"
   ]
  },
  {
   "cell_type": "code",
   "execution_count": 12,
   "id": "5eae310a",
   "metadata": {},
   "outputs": [
    {
     "name": "stdout",
     "output_type": "stream",
     "text": [
      "Model: \"model\"\n",
      "_________________________________________________________________\n",
      " Layer (type)                Output Shape              Param #   \n",
      "=================================================================\n",
      " input_1 (InputLayer)        [(None, 224, 224, 3)]     0         \n",
      "                                                                 \n",
      " block1_conv1 (Conv2D)       (None, 224, 224, 64)      1792      \n",
      "                                                                 \n",
      " block1_conv2 (Conv2D)       (None, 224, 224, 64)      36928     \n",
      "                                                                 \n",
      " block1_pool (MaxPooling2D)  (None, 112, 112, 64)      0         \n",
      "                                                                 \n",
      " block2_conv1 (Conv2D)       (None, 112, 112, 128)     73856     \n",
      "                                                                 \n",
      " block2_conv2 (Conv2D)       (None, 112, 112, 128)     147584    \n",
      "                                                                 \n",
      " block2_pool (MaxPooling2D)  (None, 56, 56, 128)       0         \n",
      "                                                                 \n",
      " block3_conv1 (Conv2D)       (None, 56, 56, 256)       295168    \n",
      "                                                                 \n",
      " block3_conv2 (Conv2D)       (None, 56, 56, 256)       590080    \n",
      "                                                                 \n",
      " block3_conv3 (Conv2D)       (None, 56, 56, 256)       590080    \n",
      "                                                                 \n",
      " block3_pool (MaxPooling2D)  (None, 28, 28, 256)       0         \n",
      "                                                                 \n",
      " block4_conv1 (Conv2D)       (None, 28, 28, 512)       1180160   \n",
      "                                                                 \n",
      " block4_conv2 (Conv2D)       (None, 28, 28, 512)       2359808   \n",
      "                                                                 \n",
      " block4_conv3 (Conv2D)       (None, 28, 28, 512)       2359808   \n",
      "                                                                 \n",
      " block4_pool (MaxPooling2D)  (None, 14, 14, 512)       0         \n",
      "                                                                 \n",
      " block5_conv1 (Conv2D)       (None, 14, 14, 512)       2359808   \n",
      "                                                                 \n",
      " block5_conv2 (Conv2D)       (None, 14, 14, 512)       2359808   \n",
      "                                                                 \n",
      " block5_conv3 (Conv2D)       (None, 14, 14, 512)       2359808   \n",
      "                                                                 \n",
      " block5_pool (MaxPooling2D)  (None, 7, 7, 512)         0         \n",
      "                                                                 \n",
      " flatten (Flatten)           (None, 25088)             0         \n",
      "                                                                 \n",
      " dense (Dense)               (None, 4)                 100356    \n",
      "                                                                 \n",
      "=================================================================\n",
      "Total params: 14,815,044\n",
      "Trainable params: 100,356\n",
      "Non-trainable params: 14,714,688\n",
      "_________________________________________________________________\n"
     ]
    }
   ],
   "source": [
    "model.summary()"
   ]
  },
  {
   "cell_type": "code",
   "execution_count": 13,
   "id": "7f1c2a35",
   "metadata": {},
   "outputs": [],
   "source": [
    "## compile the model \n",
    "model.compile(loss ='categorical_crossentropy', optimizer ='adam', metrics =['accuracy'])"
   ]
  },
  {
   "cell_type": "code",
   "execution_count": 14,
   "id": "27cffd64",
   "metadata": {},
   "outputs": [],
   "source": [
    "train_datagen = ImageDataGenerator(rescale= 1./255, shear_range= 0.2, zoom_range= 0.2, horizontal_flip= True)"
   ]
  },
  {
   "cell_type": "code",
   "execution_count": 15,
   "id": "a95e9d18",
   "metadata": {},
   "outputs": [],
   "source": [
    "test_datagen = ImageDataGenerator(rescale= 1./255)"
   ]
  },
  {
   "cell_type": "code",
   "execution_count": 16,
   "id": "2dd0932a",
   "metadata": {},
   "outputs": [
    {
     "name": "stdout",
     "output_type": "stream",
     "text": [
      "Found 4 images belonging to 4 classes.\n"
     ]
    }
   ],
   "source": [
    "training_set = train_datagen.flow_from_directory('image_dataset/train', target_size= (224,224), batch_size= 32, \n",
    "                                                 class_mode= 'categorical')"
   ]
  },
  {
   "cell_type": "code",
   "execution_count": 17,
   "id": "d5364107",
   "metadata": {},
   "outputs": [
    {
     "name": "stdout",
     "output_type": "stream",
     "text": [
      "Found 4 images belonging to 4 classes.\n"
     ]
    }
   ],
   "source": [
    "testing_set = test_datagen.flow_from_directory('image_dataset/test', target_size= (224,224), batch_size= 32, \n",
    "                                                 class_mode= 'categorical')"
   ]
  },
  {
   "cell_type": "code",
   "execution_count": 18,
   "id": "3ea5aac7",
   "metadata": {},
   "outputs": [
    {
     "name": "stderr",
     "output_type": "stream",
     "text": [
      "C:\\Users\\HP\\AppData\\Local\\Temp\\ipykernel_16776\\2319010640.py:1: UserWarning: `Model.fit_generator` is deprecated and will be removed in a future version. Please use `Model.fit`, which supports generators.\n",
      "  r = model.fit_generator( training_set, validation_data= testing_set, epochs= 5, steps_per_epoch = len(training_set),\n"
     ]
    },
    {
     "name": "stdout",
     "output_type": "stream",
     "text": [
      "Epoch 1/5\n",
      "1/1 [==============================] - 7s 7s/step - loss: 1.9056 - accuracy: 0.2500 - val_loss: 1.8117 - val_accuracy: 0.5000\n",
      "Epoch 2/5\n",
      "1/1 [==============================] - 3s 3s/step - loss: 1.2801 - accuracy: 0.7500 - val_loss: 2.1329 - val_accuracy: 0.5000\n",
      "Epoch 3/5\n",
      "1/1 [==============================] - 3s 3s/step - loss: 0.9963 - accuracy: 0.5000 - val_loss: 1.5616 - val_accuracy: 0.5000\n",
      "Epoch 4/5\n",
      "1/1 [==============================] - 3s 3s/step - loss: 0.4078 - accuracy: 0.7500 - val_loss: 1.2702 - val_accuracy: 0.5000\n",
      "Epoch 5/5\n",
      "1/1 [==============================] - 3s 3s/step - loss: 0.1213 - accuracy: 1.0000 - val_loss: 1.5063 - val_accuracy: 0.5000\n"
     ]
    }
   ],
   "source": [
    "## fit the model \n",
    "r = model.fit_generator( training_set, validation_data= testing_set, epochs= 5, steps_per_epoch = len(training_set),\n",
    "                       validation_steps= len(testing_set))"
   ]
  },
  {
   "cell_type": "code",
   "execution_count": 19,
   "id": "6311e0af",
   "metadata": {},
   "outputs": [
    {
     "data": {
      "image/png": "[encoded data removed]",
      "text/plain": [
       "<Figure size 432x288 with 1 Axes>"
      ]
     },
     "metadata": {
      "needs_background": "light"
     },
     "output_type": "display_data"
    },
    {
     "data": {
      "text/plain": [
       "<Figure size 432x288 with 0 Axes>"
      ]
     },
     "metadata": {},
     "output_type": "display_data"
    }
   ],
   "source": [
    "plt.plot(r.history['loss'], label ='train loss')\n",
    "plt.plot(r.history['val_loss'], label ='val_loss')\n",
    "plt.legend()\n",
    "plt.show()\n",
    "plt.savefig('loss_val_loss')"
   ]
  },
  {
   "cell_type": "code",
   "execution_count": 20,
   "id": "c7505426",
   "metadata": {},
   "outputs": [
    {
     "data": {
      "image/png": "[encoded data removed]",
      "text/plain": [
       "<Figure size 432x288 with 1 Axes>"
      ]
     },
     "metadata": {
      "needs_background": "light"
     },
     "output_type": "display_data"
    },
    {
     "data": {
      "text/plain": [
       "<Figure size 432x288 with 0 Axes>"
      ]
     },
     "metadata": {},
     "output_type": "display_data"
    }
   ],
   "source": [
    "plt.plot(r.history['accuracy'], label ='train acc')\n",
    "plt.plot(r.history['val_accuracy'], label ='val_acc')\n",
    "plt.legend()\n",
    "plt.show()\n",
    "plt.savefig('Acc_val_acc')"
   ]
  },
  {
   "cell_type": "code",
   "execution_count": 21,
   "id": "e8c0a758",
   "metadata": {},
   "outputs": [],
   "source": [
    "from tensorflow.keras.models import load_model"
   ]
  },
  {
   "cell_type": "code",
   "execution_count": 22,
   "id": "5800f53f",
   "metadata": {},
   "outputs": [],
   "source": [
    "model.save('facefeature_new_model.h5')"
   ]
  },
  {
   "cell_type": "code",
   "execution_count": null,
   "id": "29d9c916",
   "metadata": {},
   "outputs": [],
   "source": []
  }
 ],
 "metadata": {
  "kernelspec": {
   "display_name": "Python 3 (ipykernel)",
   "language": "python",
   "name": "python3"
  },
  "language_info": {
   "codemirror_mode": {
    "name": "ipython",
    "version": 3
   },
   "file_extension": ".py",
   "mimetype": "text/x-python",
   "name": "python",
   "nbconvert_exporter": "python",
   "pygments_lexer": "ipython3",
   "version": "3.9.13"
  }
 },
 "nbformat": 4,
 "nbformat_minor": 5
}
