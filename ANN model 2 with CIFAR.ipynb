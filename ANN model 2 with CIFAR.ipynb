{
 "cells": [
  {
   "cell_type": "code",
   "execution_count": 1,
   "id": "61a60575",
   "metadata": {},
   "outputs": [],
   "source": [
    "import os\n",
    "import numpy as np\n",
    "\n",
    "import itertools\n",
    "\n",
    "from tensorflow.keras.datasets import cifar10\n",
    "from tensorflow.keras.models import Sequential\n",
    "from tensorflow.keras.layers import Dense, Activation, Dropout\n",
    "\n",
    "from IPython.display import display\n",
    "\n",
    "from tensorflow.keras.preprocessing.image import array_to_img\n",
    "\n",
    "\n",
    "from sklearn.metrics import confusion_matrix\n",
    "\n",
    "import matplotlib.pyplot as plt"
   ]
  },
  {
   "cell_type": "code",
   "execution_count": 2,
   "id": "8e26503a",
   "metadata": {},
   "outputs": [],
   "source": [
    "LABEL_NAMES = ['Plane', 'Car', 'Bird', 'Cat', 'Deer', 'Dog', 'Frog', 'Horse', 'Ship', 'Truck']\n",
    "IMAGE_WIDTH = 32\n",
    "IMAGE_BREADTH = 32\n",
    "COLOR_CHANNELS = 3                                                  \n",
    "NR_CLASSES = 10                                                    \n",
    "TOTAL_INPUTS = IMAGE_WIDTH*IMAGE_BREADTH*COLOR_CHANNELS          \n",
    "VALIDATION_SIZE = 10000"
   ]
  },
  {
   "cell_type": "code",
   "execution_count": 3,
   "id": "48a821e0",
   "metadata": {},
   "outputs": [],
   "source": [
    "(x_train_all, y_train_all), (x_test, y_test)=cifar10.load_data()"
   ]
  },
  {
   "cell_type": "code",
   "execution_count": 4,
   "id": "a976135f",
   "metadata": {},
   "outputs": [],
   "source": [
    "x_train_all , x_test = x_train_all/255.0, x_test/255.0"
   ]
  },
  {
   "cell_type": "code",
   "execution_count": 5,
   "id": "a818f6ae",
   "metadata": {},
   "outputs": [],
   "source": [
    "x_train_all = x_train_all.reshape(x_train_all.shape[0],TOTAL_INPUTS)             "
   ]
  },
  {
   "cell_type": "code",
   "execution_count": 6,
   "id": "d2b30986",
   "metadata": {},
   "outputs": [],
   "source": [
    "x_test = x_test.reshape(len(x_test), TOTAL_INPUTS)"
   ]
  },
  {
   "cell_type": "code",
   "execution_count": 8,
   "id": "8d75fe2c",
   "metadata": {},
   "outputs": [],
   "source": [
    "x_val= x_train_all[:VALIDATION_SIZE]                                      \n",
    "y_val = y_train_all[:VALIDATION_SIZE] "
   ]
  },
  {
   "cell_type": "code",
   "execution_count": 9,
   "id": "5d02e5fe",
   "metadata": {},
   "outputs": [],
   "source": [
    "x_train = x_train_all[VALIDATION_SIZE:]\n",
    "y_train = y_train_all[VALIDATION_SIZE:]"
   ]
  },
  {
   "cell_type": "code",
   "execution_count": null,
   "id": "159c6953",
   "metadata": {},
   "outputs": [],
   "source": [
    "# model_1 = Sequential([\n",
    "    \n",
    "#             Dense(units = 128, input_dim = TOTAL_INPUTS, activation = 'relu', name = 'm1_hidden1' ),\n",
    "            \n",
    "#             Dense(units = 64, activation = 'relu', name = 'm1_hidden2'),\n",
    "    \n",
    "#             Dense(units = 16, activation = 'relu', name = 'm1_hidden3'),\n",
    "    \n",
    "#             Dense(units = 10, activation = 'softmax', name = 'm1_output')\n",
    "    \n",
    "#            ])"
   ]
  },
  {
   "cell_type": "code",
   "execution_count": 10,
   "id": "5e685351",
   "metadata": {},
   "outputs": [],
   "source": [
    "model_3 = Sequential()\n",
    "\n",
    "model_3.add(Dropout(0.2, seed=42, input_shape=(TOTAL_INPUTS,)))      \n",
    "\n",
    "model_3.add(Dense(128, activation='relu', name='m3_hidden1'))       \n",
    "\n",
    "model_3.add(Dropout(0.25, seed=42))                                 \n",
    "                                                            \n",
    "model_3.add(Dense(64, activation='relu', name='m3_hidden2'))\n",
    "\n",
    "model_3.add(Dense(16, activation='relu', name='m3_hidden3'))       \n",
    "                                                            \n",
    "model_3.add(Dense(10, activation='softmax', name='m3_output'))\n",
    "\n",
    "\n",
    "model_3.compile(optimizer='adam', \n",
    "                loss='sparse_categorical_crossentropy', \n",
    "                metrics=['accuracy'])"
   ]
  },
  {
   "cell_type": "code",
   "execution_count": 11,
   "id": "a611e6e7",
   "metadata": {},
   "outputs": [
    {
     "name": "stdout",
     "output_type": "stream",
     "text": [
      "Model: \"sequential\"\n",
      "_________________________________________________________________\n",
      " Layer (type)                Output Shape              Param #   \n",
      "=================================================================\n",
      " dropout (Dropout)           (None, 3072)              0         \n",
      "                                                                 \n",
      " m3_hidden1 (Dense)          (None, 128)               393344    \n",
      "                                                                 \n",
      " dropout_1 (Dropout)         (None, 128)               0         \n",
      "                                                                 \n",
      " m3_hidden2 (Dense)          (None, 64)                8256      \n",
      "                                                                 \n",
      " m3_hidden3 (Dense)          (None, 16)                1040      \n",
      "                                                                 \n",
      " m3_output (Dense)           (None, 10)                170       \n",
      "                                                                 \n",
      "=================================================================\n",
      "Total params: 402,810\n",
      "Trainable params: 402,810\n",
      "Non-trainable params: 0\n",
      "_________________________________________________________________\n"
     ]
    }
   ],
   "source": [
    "model_3.summary()"
   ]
  },
  {
   "cell_type": "code",
   "execution_count": 13,
   "id": "62bf0e96",
   "metadata": {},
   "outputs": [
    {
     "name": "stdout",
     "output_type": "stream",
     "text": [
      "Epoch 1/150\n",
      "80/80 [==============================] - 20s 138ms/step - loss: 2.3080 - accuracy: 0.1032 - val_loss: 2.3028 - val_accuracy: 0.0937\n",
      "Epoch 2/150\n",
      "80/80 [==============================] - 5s 65ms/step - loss: 2.3023 - accuracy: 0.1037 - val_loss: 2.3021 - val_accuracy: 0.0950\n",
      "Epoch 3/150\n",
      "80/80 [==============================] - 4s 55ms/step - loss: 2.2237 - accuracy: 0.1674 - val_loss: 2.0756 - val_accuracy: 0.2249\n",
      "Epoch 4/150\n",
      "80/80 [==============================] - 4s 54ms/step - loss: 2.0037 - accuracy: 0.2562 - val_loss: 1.8912 - val_accuracy: 0.3120\n",
      "Epoch 5/150\n",
      "80/80 [==============================] - 4s 53ms/step - loss: 1.9123 - accuracy: 0.3011 - val_loss: 1.8171 - val_accuracy: 0.3441\n",
      "Epoch 6/150\n",
      "80/80 [==============================] - 4s 52ms/step - loss: 1.8638 - accuracy: 0.3221 - val_loss: 1.7656 - val_accuracy: 0.3665\n",
      "Epoch 7/150\n",
      "80/80 [==============================] - 4s 52ms/step - loss: 1.8379 - accuracy: 0.3310 - val_loss: 1.7570 - val_accuracy: 0.3744\n",
      "Epoch 8/150\n",
      "80/80 [==============================] - 4s 53ms/step - loss: 1.8147 - accuracy: 0.3442 - val_loss: 1.7238 - val_accuracy: 0.3829\n",
      "Epoch 9/150\n",
      "80/80 [==============================] - 4s 53ms/step - loss: 1.7990 - accuracy: 0.3499 - val_loss: 1.7191 - val_accuracy: 0.3810\n",
      "Epoch 10/150\n",
      "80/80 [==============================] - 4s 53ms/step - loss: 1.7861 - accuracy: 0.3528 - val_loss: 1.7013 - val_accuracy: 0.3792\n",
      "Epoch 11/150\n",
      "80/80 [==============================] - 4s 55ms/step - loss: 1.7698 - accuracy: 0.3623 - val_loss: 1.6914 - val_accuracy: 0.3939\n",
      "Epoch 12/150\n",
      "80/80 [==============================] - 4s 54ms/step - loss: 1.7561 - accuracy: 0.3633 - val_loss: 1.6841 - val_accuracy: 0.3997\n",
      "Epoch 13/150\n",
      "80/80 [==============================] - 4s 53ms/step - loss: 1.7468 - accuracy: 0.3686 - val_loss: 1.6568 - val_accuracy: 0.4064\n",
      "Epoch 14/150\n",
      "80/80 [==============================] - 4s 53ms/step - loss: 1.7393 - accuracy: 0.3692 - val_loss: 1.6472 - val_accuracy: 0.4087\n",
      "Epoch 15/150\n",
      "80/80 [==============================] - 4s 52ms/step - loss: 1.7266 - accuracy: 0.3730 - val_loss: 1.6343 - val_accuracy: 0.4127\n",
      "Epoch 16/150\n",
      "80/80 [==============================] - 4s 53ms/step - loss: 1.7231 - accuracy: 0.3788 - val_loss: 1.6405 - val_accuracy: 0.4109\n",
      "Epoch 17/150\n",
      "80/80 [==============================] - 4s 53ms/step - loss: 1.7133 - accuracy: 0.3790 - val_loss: 1.6263 - val_accuracy: 0.4180\n",
      "Epoch 18/150\n",
      "80/80 [==============================] - 4s 53ms/step - loss: 1.7145 - accuracy: 0.3805 - val_loss: 1.6418 - val_accuracy: 0.4111\n",
      "Epoch 19/150\n",
      "80/80 [==============================] - 4s 53ms/step - loss: 1.7012 - accuracy: 0.3792 - val_loss: 1.6076 - val_accuracy: 0.4194\n",
      "Epoch 20/150\n",
      "80/80 [==============================] - 4s 53ms/step - loss: 1.6987 - accuracy: 0.3842 - val_loss: 1.6294 - val_accuracy: 0.4128\n",
      "Epoch 21/150\n",
      "80/80 [==============================] - 4s 53ms/step - loss: 1.6902 - accuracy: 0.3861 - val_loss: 1.6218 - val_accuracy: 0.4243\n",
      "Epoch 22/150\n",
      "80/80 [==============================] - 4s 53ms/step - loss: 1.6919 - accuracy: 0.3841 - val_loss: 1.6150 - val_accuracy: 0.4201\n",
      "Epoch 23/150\n",
      "80/80 [==============================] - 4s 53ms/step - loss: 1.6815 - accuracy: 0.3882 - val_loss: 1.6161 - val_accuracy: 0.4167\n",
      "Epoch 24/150\n",
      "80/80 [==============================] - 4s 53ms/step - loss: 1.6843 - accuracy: 0.3929 - val_loss: 1.6175 - val_accuracy: 0.4222\n",
      "Epoch 25/150\n",
      "80/80 [==============================] - 4s 54ms/step - loss: 1.6723 - accuracy: 0.3974 - val_loss: 1.6114 - val_accuracy: 0.4220\n",
      "Epoch 26/150\n",
      "80/80 [==============================] - 5s 57ms/step - loss: 1.6788 - accuracy: 0.3897 - val_loss: 1.6126 - val_accuracy: 0.4262\n",
      "Epoch 27/150\n",
      "80/80 [==============================] - 4s 54ms/step - loss: 1.6719 - accuracy: 0.3956 - val_loss: 1.5974 - val_accuracy: 0.4204\n",
      "Epoch 28/150\n",
      "80/80 [==============================] - 4s 53ms/step - loss: 1.6699 - accuracy: 0.3934 - val_loss: 1.5990 - val_accuracy: 0.4272\n",
      "Epoch 29/150\n",
      "80/80 [==============================] - 4s 53ms/step - loss: 1.6669 - accuracy: 0.3948 - val_loss: 1.5859 - val_accuracy: 0.4334\n",
      "Epoch 30/150\n",
      "80/80 [==============================] - 4s 52ms/step - loss: 1.6623 - accuracy: 0.4000 - val_loss: 1.5884 - val_accuracy: 0.4290\n",
      "Epoch 31/150\n",
      "80/80 [==============================] - 4s 53ms/step - loss: 1.6565 - accuracy: 0.3996 - val_loss: 1.5824 - val_accuracy: 0.4310\n",
      "Epoch 32/150\n",
      "80/80 [==============================] - 4s 53ms/step - loss: 1.6567 - accuracy: 0.3982 - val_loss: 1.5846 - val_accuracy: 0.4312\n",
      "Epoch 33/150\n",
      "80/80 [==============================] - 4s 53ms/step - loss: 1.6585 - accuracy: 0.3984 - val_loss: 1.5857 - val_accuracy: 0.4345\n",
      "Epoch 34/150\n",
      "80/80 [==============================] - 4s 53ms/step - loss: 1.6469 - accuracy: 0.4067 - val_loss: 1.6012 - val_accuracy: 0.4240\n",
      "Epoch 35/150\n",
      "80/80 [==============================] - 4s 52ms/step - loss: 1.6496 - accuracy: 0.4020 - val_loss: 1.6087 - val_accuracy: 0.4263\n",
      "Epoch 36/150\n",
      "80/80 [==============================] - 4s 53ms/step - loss: 1.6449 - accuracy: 0.4054 - val_loss: 1.5783 - val_accuracy: 0.4377\n",
      "Epoch 37/150\n",
      "80/80 [==============================] - 4s 52ms/step - loss: 1.6462 - accuracy: 0.4027 - val_loss: 1.5987 - val_accuracy: 0.4306\n",
      "Epoch 38/150\n",
      "80/80 [==============================] - 4s 53ms/step - loss: 1.6523 - accuracy: 0.4024 - val_loss: 1.5966 - val_accuracy: 0.4250\n",
      "Epoch 39/150\n",
      "80/80 [==============================] - 4s 52ms/step - loss: 1.6442 - accuracy: 0.4074 - val_loss: 1.5648 - val_accuracy: 0.4433\n",
      "Epoch 40/150\n",
      "80/80 [==============================] - 4s 53ms/step - loss: 1.6383 - accuracy: 0.4066 - val_loss: 1.5695 - val_accuracy: 0.4409\n",
      "Epoch 41/150\n",
      "80/80 [==============================] - 4s 53ms/step - loss: 1.6423 - accuracy: 0.4076 - val_loss: 1.5799 - val_accuracy: 0.4378\n",
      "Epoch 42/150\n",
      "80/80 [==============================] - 4s 52ms/step - loss: 1.6290 - accuracy: 0.4131 - val_loss: 1.5607 - val_accuracy: 0.4451\n",
      "Epoch 43/150\n",
      "80/80 [==============================] - 4s 52ms/step - loss: 1.6367 - accuracy: 0.4083 - val_loss: 1.5775 - val_accuracy: 0.4321\n",
      "Epoch 44/150\n",
      "80/80 [==============================] - 4s 52ms/step - loss: 1.6348 - accuracy: 0.4088 - val_loss: 1.5724 - val_accuracy: 0.4382\n",
      "Epoch 45/150\n",
      "80/80 [==============================] - 4s 53ms/step - loss: 1.6323 - accuracy: 0.4117 - val_loss: 1.5738 - val_accuracy: 0.4379\n",
      "Epoch 46/150\n",
      "80/80 [==============================] - 4s 53ms/step - loss: 1.6334 - accuracy: 0.4083 - val_loss: 1.5796 - val_accuracy: 0.4343\n",
      "Epoch 47/150\n",
      "80/80 [==============================] - 4s 54ms/step - loss: 1.6275 - accuracy: 0.4089 - val_loss: 1.5625 - val_accuracy: 0.4442\n",
      "Epoch 48/150\n",
      "80/80 [==============================] - 4s 52ms/step - loss: 1.6280 - accuracy: 0.4096 - val_loss: 1.5851 - val_accuracy: 0.4405\n",
      "Epoch 49/150\n",
      "80/80 [==============================] - 4s 53ms/step - loss: 1.6265 - accuracy: 0.4123 - val_loss: 1.5746 - val_accuracy: 0.4437\n",
      "Epoch 50/150\n",
      "80/80 [==============================] - 4s 53ms/step - loss: 1.6253 - accuracy: 0.4143 - val_loss: 1.5686 - val_accuracy: 0.4385\n",
      "Epoch 51/150\n",
      "80/80 [==============================] - 4s 52ms/step - loss: 1.6261 - accuracy: 0.4096 - val_loss: 1.5618 - val_accuracy: 0.4428\n",
      "Epoch 52/150\n",
      "80/80 [==============================] - 4s 53ms/step - loss: 1.6212 - accuracy: 0.4143 - val_loss: 1.5857 - val_accuracy: 0.4368\n",
      "Epoch 53/150\n",
      "80/80 [==============================] - 4s 53ms/step - loss: 1.6195 - accuracy: 0.4120 - val_loss: 1.5881 - val_accuracy: 0.4359\n",
      "Epoch 54/150\n",
      "80/80 [==============================] - 4s 53ms/step - loss: 1.6199 - accuracy: 0.4121 - val_loss: 1.5591 - val_accuracy: 0.4470\n",
      "Epoch 55/150\n",
      "80/80 [==============================] - 4s 53ms/step - loss: 1.6198 - accuracy: 0.4141 - val_loss: 1.5798 - val_accuracy: 0.4352\n",
      "Epoch 56/150\n",
      "80/80 [==============================] - 4s 53ms/step - loss: 1.6161 - accuracy: 0.4186 - val_loss: 1.5714 - val_accuracy: 0.4428\n",
      "Epoch 57/150\n",
      "80/80 [==============================] - 4s 56ms/step - loss: 1.6144 - accuracy: 0.4170 - val_loss: 1.5583 - val_accuracy: 0.4422\n",
      "Epoch 58/150\n",
      "80/80 [==============================] - 4s 55ms/step - loss: 1.6150 - accuracy: 0.4157 - val_loss: 1.5786 - val_accuracy: 0.4386\n",
      "Epoch 59/150\n",
      "80/80 [==============================] - 4s 54ms/step - loss: 1.6136 - accuracy: 0.4168 - val_loss: 1.5529 - val_accuracy: 0.4435\n",
      "Epoch 60/150\n",
      "80/80 [==============================] - 4s 52ms/step - loss: 1.6072 - accuracy: 0.4214 - val_loss: 1.5637 - val_accuracy: 0.4370\n",
      "Epoch 61/150\n",
      "80/80 [==============================] - 4s 52ms/step - loss: 1.6089 - accuracy: 0.4180 - val_loss: 1.5479 - val_accuracy: 0.4501\n",
      "Epoch 62/150\n",
      "80/80 [==============================] - 4s 52ms/step - loss: 1.6056 - accuracy: 0.4190 - val_loss: 1.5598 - val_accuracy: 0.4421\n",
      "Epoch 63/150\n",
      "80/80 [==============================] - 4s 52ms/step - loss: 1.6035 - accuracy: 0.4189 - val_loss: 1.5459 - val_accuracy: 0.4461\n",
      "Epoch 64/150\n",
      "80/80 [==============================] - 4s 52ms/step - loss: 1.6064 - accuracy: 0.4191 - val_loss: 1.5543 - val_accuracy: 0.4449\n",
      "Epoch 65/150\n",
      "80/80 [==============================] - 4s 52ms/step - loss: 1.6115 - accuracy: 0.4181 - val_loss: 1.5532 - val_accuracy: 0.4481\n",
      "Epoch 66/150\n",
      "80/80 [==============================] - 4s 53ms/step - loss: 1.6056 - accuracy: 0.4204 - val_loss: 1.5589 - val_accuracy: 0.4464\n",
      "Epoch 67/150\n",
      "80/80 [==============================] - 4s 54ms/step - loss: 1.6059 - accuracy: 0.4164 - val_loss: 1.5570 - val_accuracy: 0.4422\n",
      "Epoch 68/150\n",
      "80/80 [==============================] - 4s 55ms/step - loss: 1.6015 - accuracy: 0.4204 - val_loss: 1.5717 - val_accuracy: 0.4462\n",
      "Epoch 69/150\n",
      "80/80 [==============================] - 4s 55ms/step - loss: 1.6047 - accuracy: 0.4212 - val_loss: 1.5536 - val_accuracy: 0.4435\n",
      "Epoch 70/150\n",
      "80/80 [==============================] - 4s 54ms/step - loss: 1.6043 - accuracy: 0.4203 - val_loss: 1.5620 - val_accuracy: 0.4416\n",
      "Epoch 71/150\n",
      "80/80 [==============================] - 4s 55ms/step - loss: 1.5953 - accuracy: 0.4252 - val_loss: 1.5789 - val_accuracy: 0.4412\n",
      "Epoch 72/150\n",
      "80/80 [==============================] - 4s 54ms/step - loss: 1.6070 - accuracy: 0.4176 - val_loss: 1.5590 - val_accuracy: 0.4435\n",
      "Epoch 73/150\n",
      "80/80 [==============================] - 4s 54ms/step - loss: 1.5992 - accuracy: 0.4193 - val_loss: 1.5542 - val_accuracy: 0.4443\n",
      "Epoch 74/150\n",
      "80/80 [==============================] - 5s 56ms/step - loss: 1.5970 - accuracy: 0.4228 - val_loss: 1.5764 - val_accuracy: 0.4381\n",
      "Epoch 75/150\n",
      "80/80 [==============================] - 4s 56ms/step - loss: 1.5987 - accuracy: 0.4211 - val_loss: 1.5389 - val_accuracy: 0.4523\n",
      "Epoch 76/150\n",
      "80/80 [==============================] - 5s 57ms/step - loss: 1.5909 - accuracy: 0.4257 - val_loss: 1.5637 - val_accuracy: 0.4392\n",
      "Epoch 77/150\n",
      "80/80 [==============================] - 5s 56ms/step - loss: 1.5952 - accuracy: 0.4245 - val_loss: 1.5550 - val_accuracy: 0.4413\n",
      "Epoch 78/150\n",
      "80/80 [==============================] - 5s 58ms/step - loss: 1.5954 - accuracy: 0.4234 - val_loss: 1.5877 - val_accuracy: 0.4319\n",
      "Epoch 79/150\n",
      "80/80 [==============================] - 4s 53ms/step - loss: 1.5941 - accuracy: 0.4234 - val_loss: 1.5543 - val_accuracy: 0.4382\n",
      "Epoch 80/150\n",
      "80/80 [==============================] - 4s 53ms/step - loss: 1.5934 - accuracy: 0.4244 - val_loss: 1.5635 - val_accuracy: 0.4424\n",
      "Epoch 81/150\n",
      "80/80 [==============================] - 4s 53ms/step - loss: 1.5955 - accuracy: 0.4239 - val_loss: 1.5602 - val_accuracy: 0.4471\n",
      "Epoch 82/150\n",
      "80/80 [==============================] - 4s 54ms/step - loss: 1.5956 - accuracy: 0.4223 - val_loss: 1.5477 - val_accuracy: 0.4464\n",
      "Epoch 83/150\n",
      "80/80 [==============================] - 4s 55ms/step - loss: 1.5838 - accuracy: 0.4263 - val_loss: 1.5468 - val_accuracy: 0.4461\n",
      "Epoch 84/150\n",
      "80/80 [==============================] - 4s 53ms/step - loss: 1.5936 - accuracy: 0.4237 - val_loss: 1.5404 - val_accuracy: 0.4484\n",
      "Epoch 85/150\n",
      "80/80 [==============================] - 4s 53ms/step - loss: 1.5835 - accuracy: 0.4270 - val_loss: 1.5483 - val_accuracy: 0.4533\n",
      "Epoch 86/150\n",
      "80/80 [==============================] - 4s 53ms/step - loss: 1.5886 - accuracy: 0.4242 - val_loss: 1.5523 - val_accuracy: 0.4432\n",
      "Epoch 87/150\n",
      "80/80 [==============================] - 4s 53ms/step - loss: 1.5891 - accuracy: 0.4249 - val_loss: 1.5536 - val_accuracy: 0.4468\n",
      "Epoch 88/150\n",
      "80/80 [==============================] - 4s 53ms/step - loss: 1.5775 - accuracy: 0.4293 - val_loss: 1.5426 - val_accuracy: 0.4474\n",
      "Epoch 89/150\n",
      "80/80 [==============================] - 4s 53ms/step - loss: 1.5920 - accuracy: 0.4233 - val_loss: 1.5473 - val_accuracy: 0.4488\n",
      "Epoch 90/150\n",
      "80/80 [==============================] - 4s 54ms/step - loss: 1.5818 - accuracy: 0.4271 - val_loss: 1.5485 - val_accuracy: 0.4438\n",
      "Epoch 91/150\n",
      "80/80 [==============================] - 4s 52ms/step - loss: 1.5810 - accuracy: 0.4294 - val_loss: 1.5556 - val_accuracy: 0.4452\n",
      "Epoch 92/150\n",
      "80/80 [==============================] - 4s 54ms/step - loss: 1.5868 - accuracy: 0.4286 - val_loss: 1.5570 - val_accuracy: 0.4389\n",
      "Epoch 93/150\n",
      "80/80 [==============================] - 4s 53ms/step - loss: 1.5816 - accuracy: 0.4301 - val_loss: 1.5537 - val_accuracy: 0.4448\n",
      "Epoch 94/150\n",
      "80/80 [==============================] - 4s 54ms/step - loss: 1.5806 - accuracy: 0.4301 - val_loss: 1.5673 - val_accuracy: 0.4363\n",
      "Epoch 95/150\n",
      "80/80 [==============================] - 4s 53ms/step - loss: 1.5779 - accuracy: 0.4279 - val_loss: 1.5591 - val_accuracy: 0.4418\n",
      "Epoch 96/150\n",
      "80/80 [==============================] - 4s 54ms/step - loss: 1.5787 - accuracy: 0.4306 - val_loss: 1.5183 - val_accuracy: 0.4565\n",
      "Epoch 97/150\n",
      "80/80 [==============================] - 4s 53ms/step - loss: 1.5804 - accuracy: 0.4288 - val_loss: 1.5520 - val_accuracy: 0.4515\n",
      "Epoch 98/150\n",
      "80/80 [==============================] - 4s 53ms/step - loss: 1.5813 - accuracy: 0.4275 - val_loss: 1.5534 - val_accuracy: 0.4440\n",
      "Epoch 99/150\n",
      "80/80 [==============================] - 4s 52ms/step - loss: 1.5783 - accuracy: 0.4293 - val_loss: 1.5492 - val_accuracy: 0.4466\n",
      "Epoch 100/150\n",
      "80/80 [==============================] - 4s 54ms/step - loss: 1.5804 - accuracy: 0.4281 - val_loss: 1.5407 - val_accuracy: 0.4533\n",
      "Epoch 101/150\n",
      "80/80 [==============================] - 4s 54ms/step - loss: 1.5744 - accuracy: 0.4317 - val_loss: 1.5313 - val_accuracy: 0.4474\n",
      "Epoch 102/150\n",
      "80/80 [==============================] - 4s 54ms/step - loss: 1.5758 - accuracy: 0.4308 - val_loss: 1.5483 - val_accuracy: 0.4503\n",
      "Epoch 103/150\n",
      "80/80 [==============================] - 4s 53ms/step - loss: 1.5780 - accuracy: 0.4291 - val_loss: 1.5508 - val_accuracy: 0.4468\n",
      "Epoch 104/150\n",
      "80/80 [==============================] - 4s 54ms/step - loss: 1.5812 - accuracy: 0.4309 - val_loss: 1.5372 - val_accuracy: 0.4553\n",
      "Epoch 105/150\n",
      "80/80 [==============================] - 4s 55ms/step - loss: 1.5740 - accuracy: 0.4281 - val_loss: 1.5532 - val_accuracy: 0.4450\n",
      "Epoch 106/150\n",
      "80/80 [==============================] - 4s 55ms/step - loss: 1.5733 - accuracy: 0.4325 - val_loss: 1.5387 - val_accuracy: 0.4508\n",
      "Epoch 107/150\n",
      "80/80 [==============================] - 4s 56ms/step - loss: 1.5735 - accuracy: 0.4300 - val_loss: 1.5559 - val_accuracy: 0.4490\n",
      "Epoch 108/150\n",
      "80/80 [==============================] - 4s 55ms/step - loss: 1.5747 - accuracy: 0.4313 - val_loss: 1.5526 - val_accuracy: 0.4426\n",
      "Epoch 109/150\n",
      "80/80 [==============================] - 4s 54ms/step - loss: 1.5727 - accuracy: 0.4315 - val_loss: 1.5511 - val_accuracy: 0.4415\n",
      "Epoch 110/150\n",
      "80/80 [==============================] - 4s 53ms/step - loss: 1.5753 - accuracy: 0.4319 - val_loss: 1.5530 - val_accuracy: 0.4490\n",
      "Epoch 111/150\n",
      "80/80 [==============================] - 4s 54ms/step - loss: 1.5725 - accuracy: 0.4304 - val_loss: 1.5563 - val_accuracy: 0.4455\n",
      "Epoch 112/150\n",
      "80/80 [==============================] - 4s 53ms/step - loss: 1.5699 - accuracy: 0.4339 - val_loss: 1.5419 - val_accuracy: 0.4496\n",
      "Epoch 113/150\n",
      "80/80 [==============================] - 4s 55ms/step - loss: 1.5703 - accuracy: 0.4360 - val_loss: 1.5560 - val_accuracy: 0.4444\n",
      "Epoch 114/150\n",
      "80/80 [==============================] - 4s 54ms/step - loss: 1.5702 - accuracy: 0.4326 - val_loss: 1.5657 - val_accuracy: 0.4409\n",
      "Epoch 115/150\n"
     ]
    },
    {
     "name": "stdout",
     "output_type": "stream",
     "text": [
      "80/80 [==============================] - 4s 53ms/step - loss: 1.5697 - accuracy: 0.4315 - val_loss: 1.5463 - val_accuracy: 0.4453\n",
      "Epoch 116/150\n",
      "80/80 [==============================] - 4s 52ms/step - loss: 1.5659 - accuracy: 0.4332 - val_loss: 1.5538 - val_accuracy: 0.4476\n",
      "Epoch 117/150\n",
      "80/80 [==============================] - 4s 53ms/step - loss: 1.5727 - accuracy: 0.4311 - val_loss: 1.5241 - val_accuracy: 0.4615\n",
      "Epoch 118/150\n",
      "80/80 [==============================] - 4s 53ms/step - loss: 1.5718 - accuracy: 0.4341 - val_loss: 1.5254 - val_accuracy: 0.4551\n",
      "Epoch 119/150\n",
      "80/80 [==============================] - 4s 53ms/step - loss: 1.5649 - accuracy: 0.4356 - val_loss: 1.5468 - val_accuracy: 0.4477\n",
      "Epoch 120/150\n",
      "80/80 [==============================] - 4s 53ms/step - loss: 1.5672 - accuracy: 0.4322 - val_loss: 1.5302 - val_accuracy: 0.4543\n",
      "Epoch 121/150\n",
      "80/80 [==============================] - 4s 52ms/step - loss: 1.5764 - accuracy: 0.4296 - val_loss: 1.5359 - val_accuracy: 0.4527\n",
      "Epoch 122/150\n",
      "80/80 [==============================] - 4s 54ms/step - loss: 1.5718 - accuracy: 0.4310 - val_loss: 1.5471 - val_accuracy: 0.4482\n",
      "Epoch 123/150\n",
      "80/80 [==============================] - 4s 54ms/step - loss: 1.5710 - accuracy: 0.4315 - val_loss: 1.5467 - val_accuracy: 0.4394\n",
      "Epoch 124/150\n",
      "80/80 [==============================] - 4s 53ms/step - loss: 1.5669 - accuracy: 0.4341 - val_loss: 1.5330 - val_accuracy: 0.4521\n",
      "Epoch 125/150\n",
      "80/80 [==============================] - 4s 54ms/step - loss: 1.5735 - accuracy: 0.4335 - val_loss: 1.5308 - val_accuracy: 0.4544\n",
      "Epoch 126/150\n",
      "80/80 [==============================] - 4s 54ms/step - loss: 1.5663 - accuracy: 0.4342 - val_loss: 1.5398 - val_accuracy: 0.4466\n",
      "Epoch 127/150\n",
      "80/80 [==============================] - 4s 52ms/step - loss: 1.5663 - accuracy: 0.4335 - val_loss: 1.5189 - val_accuracy: 0.4545\n",
      "Epoch 128/150\n",
      "80/80 [==============================] - 4s 53ms/step - loss: 1.5692 - accuracy: 0.4354 - val_loss: 1.5472 - val_accuracy: 0.4503\n",
      "Epoch 129/150\n",
      "80/80 [==============================] - 4s 54ms/step - loss: 1.5591 - accuracy: 0.4366 - val_loss: 1.5328 - val_accuracy: 0.4490\n",
      "Epoch 130/150\n",
      "80/80 [==============================] - 4s 54ms/step - loss: 1.5617 - accuracy: 0.4361 - val_loss: 1.5245 - val_accuracy: 0.4570\n",
      "Epoch 131/150\n",
      "80/80 [==============================] - 4s 56ms/step - loss: 1.5685 - accuracy: 0.4336 - val_loss: 1.5247 - val_accuracy: 0.4594\n",
      "Epoch 132/150\n",
      "80/80 [==============================] - 4s 54ms/step - loss: 1.5693 - accuracy: 0.4343 - val_loss: 1.5201 - val_accuracy: 0.4551\n",
      "Epoch 133/150\n",
      "80/80 [==============================] - 4s 53ms/step - loss: 1.5653 - accuracy: 0.4349 - val_loss: 1.5381 - val_accuracy: 0.4505\n",
      "Epoch 134/150\n",
      "80/80 [==============================] - 4s 54ms/step - loss: 1.5650 - accuracy: 0.4351 - val_loss: 1.5457 - val_accuracy: 0.4445\n",
      "Epoch 135/150\n",
      "80/80 [==============================] - 4s 52ms/step - loss: 1.5626 - accuracy: 0.4323 - val_loss: 1.5242 - val_accuracy: 0.4554\n",
      "Epoch 136/150\n",
      "80/80 [==============================] - 4s 52ms/step - loss: 1.5626 - accuracy: 0.4358 - val_loss: 1.5492 - val_accuracy: 0.4437\n",
      "Epoch 137/150\n",
      "80/80 [==============================] - 4s 55ms/step - loss: 1.5624 - accuracy: 0.4349 - val_loss: 1.5281 - val_accuracy: 0.4610\n",
      "Epoch 138/150\n",
      "80/80 [==============================] - 4s 56ms/step - loss: 1.5612 - accuracy: 0.4373 - val_loss: 1.5678 - val_accuracy: 0.4389\n",
      "Epoch 139/150\n",
      "80/80 [==============================] - 4s 53ms/step - loss: 1.5620 - accuracy: 0.4347 - val_loss: 1.5310 - val_accuracy: 0.4464\n",
      "Epoch 140/150\n",
      "80/80 [==============================] - 4s 53ms/step - loss: 1.5671 - accuracy: 0.4326 - val_loss: 1.5298 - val_accuracy: 0.4554\n",
      "Epoch 141/150\n",
      "80/80 [==============================] - 4s 56ms/step - loss: 1.5576 - accuracy: 0.4403 - val_loss: 1.5253 - val_accuracy: 0.4500\n",
      "Epoch 142/150\n",
      "80/80 [==============================] - 4s 55ms/step - loss: 1.5614 - accuracy: 0.4354 - val_loss: 1.5325 - val_accuracy: 0.4513\n",
      "Epoch 143/150\n",
      "80/80 [==============================] - 4s 53ms/step - loss: 1.5549 - accuracy: 0.4378 - val_loss: 1.5542 - val_accuracy: 0.4490\n",
      "Epoch 144/150\n",
      "80/80 [==============================] - 4s 52ms/step - loss: 1.5633 - accuracy: 0.4354 - val_loss: 1.5218 - val_accuracy: 0.4563\n",
      "Epoch 145/150\n",
      "80/80 [==============================] - 4s 53ms/step - loss: 1.5556 - accuracy: 0.4369 - val_loss: 1.5459 - val_accuracy: 0.4518\n",
      "Epoch 146/150\n",
      "80/80 [==============================] - 4s 53ms/step - loss: 1.5573 - accuracy: 0.4359 - val_loss: 1.5210 - val_accuracy: 0.4553\n",
      "Epoch 147/150\n",
      "80/80 [==============================] - 4s 52ms/step - loss: 1.5591 - accuracy: 0.4353 - val_loss: 1.5303 - val_accuracy: 0.4524\n",
      "Epoch 148/150\n",
      "80/80 [==============================] - 4s 53ms/step - loss: 1.5521 - accuracy: 0.4381 - val_loss: 1.5302 - val_accuracy: 0.4544\n",
      "Epoch 149/150\n",
      "80/80 [==============================] - 4s 53ms/step - loss: 1.5609 - accuracy: 0.4365 - val_loss: 1.5410 - val_accuracy: 0.4519\n",
      "Epoch 150/150\n",
      "80/80 [==============================] - 4s 53ms/step - loss: 1.5620 - accuracy: 0.4342 - val_loss: 1.5315 - val_accuracy: 0.4472\n",
      "dict_keys(['loss', 'accuracy', 'val_loss', 'val_accuracy'])\n"
     ]
    }
   ],
   "source": [
    "nr_epochs = 150\n",
    "history=model_3.fit(x_train, y_train, batch_size = 500, epochs = nr_epochs, verbose = 1, validation_data = (x_val, y_val))\n",
    "print(history.history.keys())"
   ]
  },
  {
   "cell_type": "code",
   "execution_count": 14,
   "id": "925f122a",
   "metadata": {},
   "outputs": [
    {
     "data": {
      "image/png": "[encoded data removed]",
      "text/plain": [
       "<Figure size 1080x576 with 1 Axes>"
      ]
     },
     "metadata": {
      "needs_background": "light"
     },
     "output_type": "display_data"
    }
   ],
   "source": [
    "plt.figure(figsize=(15,8))\n",
    "plt.plot(history.history['loss'])\n",
    "plt.plot(history.history['accuracy'])\n",
    "plt.title('model accuracy vs model loss during training')\n",
    "plt.ylabel('accuracy')\n",
    "plt.xlabel('epoch')\n",
    "plt.legend(['loss', 'accuracy'], loc='upper left')\n",
    "plt.show()"
   ]
  },
  {
   "cell_type": "code",
   "execution_count": 15,
   "id": "dd7a7ee2",
   "metadata": {},
   "outputs": [
    {
     "data": {
      "image/png": "[encoded data removed]",
      "text/plain": [
       "<Figure size 1080x576 with 1 Axes>"
      ]
     },
     "metadata": {
      "needs_background": "light"
     },
     "output_type": "display_data"
    }
   ],
   "source": [
    "plt.figure(figsize=(15,8))\n",
    "plt.plot(history.history['val_loss'])\n",
    "plt.plot(history.history['val_accuracy'])\n",
    "plt.title('model accuracy vs model loss during validation')\n",
    "plt.ylabel('val_accuracy')\n",
    "plt.xlabel('epoch')\n",
    "plt.legend(['val_loss', 'val_accuracy'], loc='upper left')\n",
    "plt.show()"
   ]
  },
  {
   "cell_type": "code",
   "execution_count": 16,
   "id": "3b08b3d0",
   "metadata": {},
   "outputs": [
    {
     "data": {
      "text/plain": [
       "(3072,)"
      ]
     },
     "execution_count": 16,
     "metadata": {},
     "output_type": "execute_result"
    }
   ],
   "source": [
    "x_val[0].shape"
   ]
  },
  {
   "cell_type": "code",
   "execution_count": 17,
   "id": "91c3834c",
   "metadata": {},
   "outputs": [
    {
     "data": {
      "text/plain": [
       "(1, 3072)"
      ]
     },
     "execution_count": 17,
     "metadata": {},
     "output_type": "execute_result"
    }
   ],
   "source": [
    "test = np.expand_dims(x_val[0], axis = 0)\n",
    "test.shape"
   ]
  },
  {
   "cell_type": "code",
   "execution_count": 18,
   "id": "1412c1b8",
   "metadata": {},
   "outputs": [],
   "source": [
    "np.set_printoptions(precision = 3)"
   ]
  },
  {
   "cell_type": "code",
   "execution_count": 20,
   "id": "eed69055",
   "metadata": {},
   "outputs": [
    {
     "name": "stdout",
     "output_type": "stream",
     "text": [
      "1/1 [==============================] - 1s 722ms/step\n"
     ]
    },
    {
     "data": {
      "text/plain": [
       "array([[0.016, 0.009, 0.104, 0.139, 0.216, 0.103, 0.361, 0.045, 0.004,\n",
       "        0.004]], dtype=float32)"
      ]
     },
     "execution_count": 20,
     "metadata": {},
     "output_type": "execute_result"
    }
   ],
   "source": [
    "model_3.predict(test)"
   ]
  },
  {
   "cell_type": "code",
   "execution_count": 21,
   "id": "7c1a7f0c",
   "metadata": {},
   "outputs": [
    {
     "name": "stdout",
     "output_type": "stream",
     "text": [
      "1/1 [==============================] - 0s 32ms/step\n"
     ]
    },
    {
     "data": {
      "text/plain": [
       "(1, 10)"
      ]
     },
     "execution_count": 21,
     "metadata": {},
     "output_type": "execute_result"
    }
   ],
   "source": [
    "model_3.predict(test).shape"
   ]
  },
  {
   "cell_type": "code",
   "execution_count": 23,
   "id": "10a6267d",
   "metadata": {},
   "outputs": [
    {
     "name": "stdout",
     "output_type": "stream",
     "text": [
      "1/1 [==============================] - 0s 32ms/step\n"
     ]
    },
    {
     "data": {
      "text/plain": [
       "6"
      ]
     },
     "execution_count": 23,
     "metadata": {},
     "output_type": "execute_result"
    }
   ],
   "source": [
    "np.argmax(model_3.predict(test), axis =1)[0]"
   ]
  },
  {
   "cell_type": "code",
   "execution_count": 24,
   "id": "05f90884",
   "metadata": {},
   "outputs": [
    {
     "data": {
      "text/plain": [
       "6"
      ]
     },
     "execution_count": 24,
     "metadata": {},
     "output_type": "execute_result"
    }
   ],
   "source": [
    "y_val[0][0]"
   ]
  },
  {
   "cell_type": "code",
   "execution_count": 25,
   "id": "58b7fa7f",
   "metadata": {},
   "outputs": [
    {
     "name": "stdout",
     "output_type": "stream",
     "text": [
      "1/1 [==============================] - 0s 24ms/step\n",
      "Actual value: 6 vs. predicted: 6\n",
      "1/1 [==============================] - 0s 16ms/step\n",
      "Actual value: 9 vs. predicted: 1\n",
      "1/1 [==============================] - 0s 24ms/step\n",
      "Actual value: 9 vs. predicted: 9\n",
      "1/1 [==============================] - 0s 24ms/step\n",
      "Actual value: 4 vs. predicted: 6\n",
      "1/1 [==============================] - 0s 16ms/step\n",
      "Actual value: 1 vs. predicted: 9\n",
      "1/1 [==============================] - 0s 24ms/step\n",
      "Actual value: 1 vs. predicted: 1\n",
      "1/1 [==============================] - 0s 24ms/step\n",
      "Actual value: 2 vs. predicted: 2\n",
      "1/1 [==============================] - 0s 32ms/step\n",
      "Actual value: 7 vs. predicted: 7\n",
      "1/1 [==============================] - 0s 32ms/step\n",
      "Actual value: 8 vs. predicted: 8\n",
      "1/1 [==============================] - 0s 32ms/step\n",
      "Actual value: 3 vs. predicted: 7\n",
      "1/1 [==============================] - 0s 32ms/step\n",
      "Actual value: 4 vs. predicted: 4\n",
      "1/1 [==============================] - 0s 32ms/step\n",
      "Actual value: 7 vs. predicted: 7\n",
      "1/1 [==============================] - 0s 32ms/step\n",
      "Actual value: 7 vs. predicted: 7\n",
      "1/1 [==============================] - 0s 23ms/step\n",
      "Actual value: 2 vs. predicted: 1\n",
      "1/1 [==============================] - 0s 31ms/step\n",
      "Actual value: 9 vs. predicted: 6\n",
      "1/1 [==============================] - 0s 31ms/step\n",
      "Actual value: 9 vs. predicted: 8\n",
      "1/1 [==============================] - 0s 24ms/step\n",
      "Actual value: 9 vs. predicted: 9\n",
      "1/1 [==============================] - 0s 32ms/step\n",
      "Actual value: 3 vs. predicted: 5\n",
      "1/1 [==============================] - 0s 16ms/step\n",
      "Actual value: 2 vs. predicted: 3\n",
      "1/1 [==============================] - 0s 16ms/step\n",
      "Actual value: 6 vs. predicted: 6\n"
     ]
    }
   ],
   "source": [
    "for number in range(20):\n",
    "    \n",
    "    test_img = np.expand_dims(x_val[number], axis=0)\n",
    "    predicted_val = np.argmax(model_3.predict(test_img)[0])\n",
    "    print(f'Actual value: {y_val[number][0]} vs. predicted: {predicted_val}')"
   ]
  },
  {
   "cell_type": "code",
   "execution_count": 26,
   "id": "37e8a023",
   "metadata": {},
   "outputs": [
    {
     "name": "stdout",
     "output_type": "stream",
     "text": [
      "313/313 [==============================] - 2s 3ms/step - loss: 1.5288 - accuracy: 0.4553\n"
     ]
    }
   ],
   "source": [
    "test_loss, test_accuracy=model_3.evaluate(x_test, y_test)"
   ]
  },
  {
   "cell_type": "code",
   "execution_count": 27,
   "id": "5e095022",
   "metadata": {},
   "outputs": [
    {
     "name": "stdout",
     "output_type": "stream",
     "text": [
      "313/313 [==============================] - 1s 3ms/step\n"
     ]
    }
   ],
   "source": [
    "predictions = np.argmax(model_3.predict(x_test), axis = 1)"
   ]
  },
  {
   "cell_type": "code",
   "execution_count": 28,
   "id": "21b49f74",
   "metadata": {},
   "outputs": [],
   "source": [
    "conf_matrix = confusion_matrix(y_true=y_test, y_pred=predictions)"
   ]
  },
  {
   "cell_type": "code",
   "execution_count": 29,
   "id": "1a997faf",
   "metadata": {},
   "outputs": [
    {
     "data": {
      "text/plain": [
       "array([3, 9, 8, ..., 5, 4, 7], dtype=int64)"
      ]
     },
     "execution_count": 29,
     "metadata": {},
     "output_type": "execute_result"
    }
   ],
   "source": [
    "predictions"
   ]
  },
  {
   "cell_type": "code",
   "execution_count": 30,
   "id": "9ae86c88",
   "metadata": {},
   "outputs": [
    {
     "data": {
      "text/plain": [
       "(10000,)"
      ]
     },
     "execution_count": 30,
     "metadata": {},
     "output_type": "execute_result"
    }
   ],
   "source": [
    "predictions.shape"
   ]
  },
  {
   "cell_type": "code",
   "execution_count": 31,
   "id": "e6f8bd0a",
   "metadata": {},
   "outputs": [
    {
     "data": {
      "text/plain": [
       "array([[375,  37,  89,  30,  67,   5,  54,  41, 261,  41],\n",
       "       [ 17, 545,  28,  33,  24,  11,  51,  21, 105, 165],\n",
       "       [ 57,  18, 280,  61, 271,  38, 188,  45,  30,  12],\n",
       "       [ 12,  20,  95, 234, 129, 126, 287,  42,  26,  29],\n",
       "       [ 29,   4, 101,  30, 532,  14, 191,  52,  36,  11],\n",
       "       [  4,   5, 115, 155, 133, 287, 206,  39,  35,  21],\n",
       "       [  2,   6,  48,  43, 161,  19, 696,   8,   6,  11],\n",
       "       [ 27,   9,  73,  64, 213,  42,  86, 425,  30,  31],\n",
       "       [ 40,  56,  28,  28,  36,  18,  31,  16, 682,  65],\n",
       "       [ 18, 154,  10,  44,  23,  16,  76,  50, 112, 497]], dtype=int64)"
      ]
     },
     "execution_count": 31,
     "metadata": {},
     "output_type": "execute_result"
    }
   ],
   "source": [
    "conf_matrix"
   ]
  },
  {
   "cell_type": "code",
   "execution_count": 32,
   "id": "cc1c0419",
   "metadata": {},
   "outputs": [
    {
     "data": {
      "text/plain": [
       "(10, 10)"
      ]
     },
     "execution_count": 32,
     "metadata": {},
     "output_type": "execute_result"
    }
   ],
   "source": [
    "conf_matrix.shape"
   ]
  },
  {
   "cell_type": "code",
   "execution_count": 33,
   "id": "7e4372cb",
   "metadata": {},
   "outputs": [],
   "source": [
    "nr_rows = conf_matrix.shape[0]\n",
    "nr_cols = conf_matrix.shape[1]"
   ]
  },
  {
   "cell_type": "code",
   "execution_count": 34,
   "id": "ead27418",
   "metadata": {},
   "outputs": [
    {
     "data": {
      "text/plain": [
       "array([[375,  37,  89,  30,  67,   5,  54,  41, 261,  41],\n",
       "       [ 17, 545,  28,  33,  24,  11,  51,  21, 105, 165],\n",
       "       [ 57,  18, 280,  61, 271,  38, 188,  45,  30,  12],\n",
       "       [ 12,  20,  95, 234, 129, 126, 287,  42,  26,  29],\n",
       "       [ 29,   4, 101,  30, 532,  14, 191,  52,  36,  11],\n",
       "       [  4,   5, 115, 155, 133, 287, 206,  39,  35,  21],\n",
       "       [  2,   6,  48,  43, 161,  19, 696,   8,   6,  11],\n",
       "       [ 27,   9,  73,  64, 213,  42,  86, 425,  30,  31],\n",
       "       [ 40,  56,  28,  28,  36,  18,  31,  16, 682,  65],\n",
       "       [ 18, 154,  10,  44,  23,  16,  76,  50, 112, 497]], dtype=int64)"
      ]
     },
     "execution_count": 34,
     "metadata": {},
     "output_type": "execute_result"
    }
   ],
   "source": [
    "conf_matrix"
   ]
  },
  {
   "cell_type": "code",
   "execution_count": 35,
   "id": "e8e24ecf",
   "metadata": {},
   "outputs": [
    {
     "data": {
      "image/png": "[encoded data removed]",
      "text/plain": [
       "<Figure size 570x570 with 2 Axes>"
      ]
     },
     "metadata": {
      "needs_background": "light"
     },
     "output_type": "display_data"
    }
   ],
   "source": [
    "plt.figure(figsize=(6,6), dpi=95)\n",
    "\n",
    "plt.imshow(conf_matrix, cmap = plt.cm.Greens)\n",
    "\n",
    "plt.title('Confusion Matrix', fontsize=16)\n",
    "plt.ylabel('Actual Labels', fontsize=12)\n",
    "plt.xlabel('Predicted Labels', fontsize=12)\n",
    "\n",
    "\n",
    "for i , j in itertools.product(range(nr_rows), range(nr_cols)):\n",
    "    \n",
    "    plt.text(j, i, conf_matrix[i,j], horizontalalignment = 'center')\n",
    "\n",
    "\n",
    "tick_marks = np.arange(NR_CLASSES)\n",
    "plt.yticks(tick_marks, LABEL_NAMES)\n",
    "plt.xticks(tick_marks, LABEL_NAMES)\n",
    "\n",
    "plt.colorbar()\n",
    "\n",
    "plt.show()"
   ]
  },
  {
   "cell_type": "code",
   "execution_count": 36,
   "id": "ab6cc381",
   "metadata": {},
   "outputs": [
    {
     "data": {
      "text/plain": [
       "array([375, 545, 280, 234, 532, 287, 696, 425, 682, 497], dtype=int64)"
      ]
     },
     "execution_count": 36,
     "metadata": {},
     "output_type": "execute_result"
    }
   ],
   "source": [
    "np.diag(conf_matrix)"
   ]
  },
  {
   "cell_type": "code",
   "execution_count": 37,
   "id": "d00cbc6f",
   "metadata": {},
   "outputs": [
    {
     "data": {
      "text/plain": [
       "array([0.375, 0.545, 0.28 , 0.234, 0.532, 0.287, 0.696, 0.425, 0.682,\n",
       "       0.497])"
      ]
     },
     "execution_count": 37,
     "metadata": {},
     "output_type": "execute_result"
    }
   ],
   "source": [
    "recall = np.diag(conf_matrix) / np.sum(conf_matrix, axis=1)                # individual value of row / sum of row that row\n",
    "recall"
   ]
  },
  {
   "cell_type": "code",
   "execution_count": 38,
   "id": "9d7c1e10",
   "metadata": {},
   "outputs": [
    {
     "data": {
      "text/plain": [
       "array([0.645, 0.638, 0.323, 0.324, 0.335, 0.498, 0.373, 0.575, 0.515,\n",
       "       0.563])"
      ]
     },
     "execution_count": 38,
     "metadata": {},
     "output_type": "execute_result"
    }
   ],
   "source": [
    "precision = np.diag(conf_matrix) / np.sum(conf_matrix, axis=0)             # individual value of row / sum of that column\n",
    "precision"
   ]
  },
  {
   "cell_type": "code",
   "execution_count": 39,
   "id": "49add0b1",
   "metadata": {},
   "outputs": [
    {
     "data": {
      "text/plain": [
       "0.4553"
      ]
     },
     "execution_count": 39,
     "metadata": {},
     "output_type": "execute_result"
    }
   ],
   "source": [
    "avg_recall = np.mean(recall)                         # mean value of recall\n",
    "avg_recall"
   ]
  },
  {
   "cell_type": "code",
   "execution_count": 40,
   "id": "d5277617",
   "metadata": {},
   "outputs": [
    {
     "data": {
      "text/plain": [
       "0.47901711213038994"
      ]
     },
     "execution_count": 40,
     "metadata": {},
     "output_type": "execute_result"
    }
   ],
   "source": [
    "avg_precision = np.mean(precision)                    # mean value of precision\n",
    "avg_precision"
   ]
  },
  {
   "cell_type": "code",
   "execution_count": 41,
   "id": "7ccbe569",
   "metadata": {},
   "outputs": [
    {
     "data": {
      "text/plain": [
       "0.46685753331793794"
      ]
     },
     "execution_count": 41,
     "metadata": {},
     "output_type": "execute_result"
    }
   ],
   "source": [
    "f1_score = 2 * (avg_precision * avg_recall) / (avg_precision + avg_recall)\n",
    "f1_score"
   ]
  },
  {
   "cell_type": "code",
   "execution_count": null,
   "id": "4c5184f0",
   "metadata": {},
   "outputs": [],
   "source": []
  }
 ],
 "metadata": {
  "kernelspec": {
   "display_name": "Python 3 (ipykernel)",
   "language": "python",
   "name": "python3"
  },
  "language_info": {
   "codemirror_mode": {
    "name": "ipython",
    "version": 3
   },
   "file_extension": ".py",
   "mimetype": "text/x-python",
   "name": "python",
   "nbconvert_exporter": "python",
   "pygments_lexer": "ipython3",
   "version": "3.9.13"
  }
 },
 "nbformat": 4,
 "nbformat_minor": 5
}
